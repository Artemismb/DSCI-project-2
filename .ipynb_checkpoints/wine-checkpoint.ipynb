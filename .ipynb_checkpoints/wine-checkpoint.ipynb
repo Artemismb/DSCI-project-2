{
 "cells": [
  {
   "cell_type": "markdown",
   "metadata": {},
   "source": [
    "**Title** "
   ]
  },
  {
   "cell_type": "markdown",
   "metadata": {},
   "source": [
    "**Intro**\n",
    "Wine is one of the most popular alcoholic beverages in the world, with a great range between the cheapest and the most expensive wines. The project’s main objective is to determine which chemical characteristics determine wine quality to predict the quality of a new sample. \n",
    "Question: What characteristics best determine the quality of wine and how accurate is the model to predict wine quality?\n",
    "The dataset we are using for the project consists information about chemical composition of each wine as well as information about that wine’s quality. The dataset was created and maintained by M Yasser H and the method for collection of data is google research. The dataset contains 1142 observations, 11 quantitative variables, and 1 categorical variable.\n",
    "The variables include density, pH values, sugar level, and other quantitative variables. The categorical variable that we are using is “quality”, which is represented on the scale from 0 to 10, where the min value observed is 3 and the max value observed is 8. \n",
    "The initial model is based on the report made by Nimit Dhalia, “The Effect of Physicochemical on The Wine Quality,” which states that red wine quality tends to depend on volatile acidity, alcohol, total sulfur dioxide, and sulphites whereas white wine quality depends on density rather than sulphites. Since the dataset does not show whether the wine is white or red, variables from both categories will be used in the initial model.\n",
    "\n",
    "**Methods**\n",
    "\n",
    "\n",
    "\n",
    "**Outcomes**\n",
    "We expect that the factors mentioned above will allow us to predict the quality of a wine based on easily measurable factors such as sulfur dioxide levels and volatile acidity. The classification scheme could save time and money for vineyards, because quality could be determined without each wine being tasted by a sommelier. A classification system such as this one could also lead to a closer price to quality ratio in wines, allowing consumers to have a better sense of what they’re buying. \n",
    "Our results may lead to further questions such as “how well does wine quality correlate to price?” and “how much do the optimum levels of predictors change with different types of wine, for example pinot versus cabernet?”\n"
   ]
  },
  {
   "cell_type": "markdown",
   "metadata": {},
   "source": []
  },
  {
   "cell_type": "markdown",
   "metadata": {},
   "source": []
  },
  {
   "cell_type": "markdown",
   "metadata": {},
   "source": []
  },
  {
   "cell_type": "markdown",
   "metadata": {},
   "source": []
  },
  {
   "cell_type": "code",
   "execution_count": 32,
   "metadata": {},
   "outputs": [
    {
     "name": "stderr",
     "output_type": "stream",
     "text": [
      "Parsed with column specification:\n",
      "cols(\n",
      "  `fixed acidity` = \u001b[32mcol_double()\u001b[39m,\n",
      "  `volatile acidity` = \u001b[32mcol_double()\u001b[39m,\n",
      "  `citric acid` = \u001b[32mcol_double()\u001b[39m,\n",
      "  `residual sugar` = \u001b[32mcol_double()\u001b[39m,\n",
      "  chlorides = \u001b[32mcol_double()\u001b[39m,\n",
      "  `free sulfur dioxide` = \u001b[32mcol_double()\u001b[39m,\n",
      "  `total sulfur dioxide` = \u001b[32mcol_double()\u001b[39m,\n",
      "  density = \u001b[32mcol_double()\u001b[39m,\n",
      "  pH = \u001b[32mcol_double()\u001b[39m,\n",
      "  sulphates = \u001b[32mcol_double()\u001b[39m,\n",
      "  alcohol = \u001b[32mcol_double()\u001b[39m,\n",
      "  quality = \u001b[32mcol_double()\u001b[39m,\n",
      "  Id = \u001b[32mcol_double()\u001b[39m\n",
      ")\n",
      "\n"
     ]
    },
    {
     "data": {
      "text/html": [
       "<table>\n",
       "<caption>A spec_tbl_df: 1143 × 13</caption>\n",
       "<thead>\n",
       "\t<tr><th scope=col>fixed_acidity</th><th scope=col>volatile_acidity</th><th scope=col>citric_acid</th><th scope=col>residual_sugar</th><th scope=col>chlorides</th><th scope=col>free_sulfur_dioxide</th><th scope=col>total_sulpher_dioxide</th><th scope=col>density</th><th scope=col>pH</th><th scope=col>sulphates</th><th scope=col>alcohol</th><th scope=col>quality</th><th scope=col>id</th></tr>\n",
       "\t<tr><th scope=col>&lt;dbl&gt;</th><th scope=col>&lt;dbl&gt;</th><th scope=col>&lt;dbl&gt;</th><th scope=col>&lt;dbl&gt;</th><th scope=col>&lt;dbl&gt;</th><th scope=col>&lt;dbl&gt;</th><th scope=col>&lt;dbl&gt;</th><th scope=col>&lt;dbl&gt;</th><th scope=col>&lt;dbl&gt;</th><th scope=col>&lt;dbl&gt;</th><th scope=col>&lt;dbl&gt;</th><th scope=col>&lt;fct&gt;</th><th scope=col>&lt;dbl&gt;</th></tr>\n",
       "</thead>\n",
       "<tbody>\n",
       "\t<tr><td> 7.4</td><td>0.70</td><td>0.00</td><td>1.9</td><td>0.076</td><td>11</td><td>34</td><td>0.9978</td><td>3.51</td><td>0.56</td><td>9.4</td><td>5</td><td>0</td></tr>\n",
       "\t<tr><td> 7.8</td><td>0.88</td><td>0.00</td><td>2.6</td><td>0.098</td><td>25</td><td>67</td><td>0.9968</td><td>3.20</td><td>0.68</td><td>9.8</td><td>5</td><td>1</td></tr>\n",
       "\t<tr><td> 7.8</td><td>0.76</td><td>0.04</td><td>2.3</td><td>0.092</td><td>15</td><td>54</td><td>0.9970</td><td>3.26</td><td>0.65</td><td>9.8</td><td>5</td><td>2</td></tr>\n",
       "\t<tr><td>11.2</td><td>0.28</td><td>0.56</td><td>1.9</td><td>0.075</td><td>17</td><td>60</td><td>0.9980</td><td>3.16</td><td>0.58</td><td>9.8</td><td>6</td><td>3</td></tr>\n",
       "\t<tr><td> 7.4</td><td>0.70</td><td>0.00</td><td>1.9</td><td>0.076</td><td>11</td><td>34</td><td>0.9978</td><td>3.51</td><td>0.56</td><td>9.4</td><td>5</td><td>4</td></tr>\n",
       "\t<tr><td>⋮</td><td>⋮</td><td>⋮</td><td>⋮</td><td>⋮</td><td>⋮</td><td>⋮</td><td>⋮</td><td>⋮</td><td>⋮</td><td>⋮</td><td>⋮</td><td>⋮</td></tr>\n",
       "\t<tr><td>6.3</td><td>0.510</td><td>0.13</td><td>2.3</td><td>0.076</td><td>29</td><td>40</td><td>0.99574</td><td>3.42</td><td>0.75</td><td>11.0</td><td>6</td><td>1592</td></tr>\n",
       "\t<tr><td>6.8</td><td>0.620</td><td>0.08</td><td>1.9</td><td>0.068</td><td>28</td><td>38</td><td>0.99651</td><td>3.42</td><td>0.82</td><td> 9.5</td><td>6</td><td>1593</td></tr>\n",
       "\t<tr><td>6.2</td><td>0.600</td><td>0.08</td><td>2.0</td><td>0.090</td><td>32</td><td>44</td><td>0.99490</td><td>3.45</td><td>0.58</td><td>10.5</td><td>5</td><td>1594</td></tr>\n",
       "\t<tr><td>5.9</td><td>0.550</td><td>0.10</td><td>2.2</td><td>0.062</td><td>39</td><td>51</td><td>0.99512</td><td>3.52</td><td>0.76</td><td>11.2</td><td>6</td><td>1595</td></tr>\n",
       "\t<tr><td>5.9</td><td>0.645</td><td>0.12</td><td>2.0</td><td>0.075</td><td>32</td><td>44</td><td>0.99547</td><td>3.57</td><td>0.71</td><td>10.2</td><td>5</td><td>1597</td></tr>\n",
       "</tbody>\n",
       "</table>\n"
      ],
      "text/latex": [
       "A spec\\_tbl\\_df: 1143 × 13\n",
       "\\begin{tabular}{lllllllllllll}\n",
       " fixed\\_acidity & volatile\\_acidity & citric\\_acid & residual\\_sugar & chlorides & free\\_sulfur\\_dioxide & total\\_sulpher\\_dioxide & density & pH & sulphates & alcohol & quality & id\\\\\n",
       " <dbl> & <dbl> & <dbl> & <dbl> & <dbl> & <dbl> & <dbl> & <dbl> & <dbl> & <dbl> & <dbl> & <fct> & <dbl>\\\\\n",
       "\\hline\n",
       "\t  7.4 & 0.70 & 0.00 & 1.9 & 0.076 & 11 & 34 & 0.9978 & 3.51 & 0.56 & 9.4 & 5 & 0\\\\\n",
       "\t  7.8 & 0.88 & 0.00 & 2.6 & 0.098 & 25 & 67 & 0.9968 & 3.20 & 0.68 & 9.8 & 5 & 1\\\\\n",
       "\t  7.8 & 0.76 & 0.04 & 2.3 & 0.092 & 15 & 54 & 0.9970 & 3.26 & 0.65 & 9.8 & 5 & 2\\\\\n",
       "\t 11.2 & 0.28 & 0.56 & 1.9 & 0.075 & 17 & 60 & 0.9980 & 3.16 & 0.58 & 9.8 & 6 & 3\\\\\n",
       "\t  7.4 & 0.70 & 0.00 & 1.9 & 0.076 & 11 & 34 & 0.9978 & 3.51 & 0.56 & 9.4 & 5 & 4\\\\\n",
       "\t ⋮ & ⋮ & ⋮ & ⋮ & ⋮ & ⋮ & ⋮ & ⋮ & ⋮ & ⋮ & ⋮ & ⋮ & ⋮\\\\\n",
       "\t 6.3 & 0.510 & 0.13 & 2.3 & 0.076 & 29 & 40 & 0.99574 & 3.42 & 0.75 & 11.0 & 6 & 1592\\\\\n",
       "\t 6.8 & 0.620 & 0.08 & 1.9 & 0.068 & 28 & 38 & 0.99651 & 3.42 & 0.82 &  9.5 & 6 & 1593\\\\\n",
       "\t 6.2 & 0.600 & 0.08 & 2.0 & 0.090 & 32 & 44 & 0.99490 & 3.45 & 0.58 & 10.5 & 5 & 1594\\\\\n",
       "\t 5.9 & 0.550 & 0.10 & 2.2 & 0.062 & 39 & 51 & 0.99512 & 3.52 & 0.76 & 11.2 & 6 & 1595\\\\\n",
       "\t 5.9 & 0.645 & 0.12 & 2.0 & 0.075 & 32 & 44 & 0.99547 & 3.57 & 0.71 & 10.2 & 5 & 1597\\\\\n",
       "\\end{tabular}\n"
      ],
      "text/markdown": [
       "\n",
       "A spec_tbl_df: 1143 × 13\n",
       "\n",
       "| fixed_acidity &lt;dbl&gt; | volatile_acidity &lt;dbl&gt; | citric_acid &lt;dbl&gt; | residual_sugar &lt;dbl&gt; | chlorides &lt;dbl&gt; | free_sulfur_dioxide &lt;dbl&gt; | total_sulpher_dioxide &lt;dbl&gt; | density &lt;dbl&gt; | pH &lt;dbl&gt; | sulphates &lt;dbl&gt; | alcohol &lt;dbl&gt; | quality &lt;fct&gt; | id &lt;dbl&gt; |\n",
       "|---|---|---|---|---|---|---|---|---|---|---|---|---|\n",
       "|  7.4 | 0.70 | 0.00 | 1.9 | 0.076 | 11 | 34 | 0.9978 | 3.51 | 0.56 | 9.4 | 5 | 0 |\n",
       "|  7.8 | 0.88 | 0.00 | 2.6 | 0.098 | 25 | 67 | 0.9968 | 3.20 | 0.68 | 9.8 | 5 | 1 |\n",
       "|  7.8 | 0.76 | 0.04 | 2.3 | 0.092 | 15 | 54 | 0.9970 | 3.26 | 0.65 | 9.8 | 5 | 2 |\n",
       "| 11.2 | 0.28 | 0.56 | 1.9 | 0.075 | 17 | 60 | 0.9980 | 3.16 | 0.58 | 9.8 | 6 | 3 |\n",
       "|  7.4 | 0.70 | 0.00 | 1.9 | 0.076 | 11 | 34 | 0.9978 | 3.51 | 0.56 | 9.4 | 5 | 4 |\n",
       "| ⋮ | ⋮ | ⋮ | ⋮ | ⋮ | ⋮ | ⋮ | ⋮ | ⋮ | ⋮ | ⋮ | ⋮ | ⋮ |\n",
       "| 6.3 | 0.510 | 0.13 | 2.3 | 0.076 | 29 | 40 | 0.99574 | 3.42 | 0.75 | 11.0 | 6 | 1592 |\n",
       "| 6.8 | 0.620 | 0.08 | 1.9 | 0.068 | 28 | 38 | 0.99651 | 3.42 | 0.82 |  9.5 | 6 | 1593 |\n",
       "| 6.2 | 0.600 | 0.08 | 2.0 | 0.090 | 32 | 44 | 0.99490 | 3.45 | 0.58 | 10.5 | 5 | 1594 |\n",
       "| 5.9 | 0.550 | 0.10 | 2.2 | 0.062 | 39 | 51 | 0.99512 | 3.52 | 0.76 | 11.2 | 6 | 1595 |\n",
       "| 5.9 | 0.645 | 0.12 | 2.0 | 0.075 | 32 | 44 | 0.99547 | 3.57 | 0.71 | 10.2 | 5 | 1597 |\n",
       "\n"
      ],
      "text/plain": [
       "     fixed_acidity volatile_acidity citric_acid residual_sugar chlorides\n",
       "1     7.4          0.70             0.00        1.9            0.076    \n",
       "2     7.8          0.88             0.00        2.6            0.098    \n",
       "3     7.8          0.76             0.04        2.3            0.092    \n",
       "4    11.2          0.28             0.56        1.9            0.075    \n",
       "5     7.4          0.70             0.00        1.9            0.076    \n",
       "⋮    ⋮             ⋮                ⋮           ⋮              ⋮        \n",
       "1139 6.3           0.510            0.13        2.3            0.076    \n",
       "1140 6.8           0.620            0.08        1.9            0.068    \n",
       "1141 6.2           0.600            0.08        2.0            0.090    \n",
       "1142 5.9           0.550            0.10        2.2            0.062    \n",
       "1143 5.9           0.645            0.12        2.0            0.075    \n",
       "     free_sulfur_dioxide total_sulpher_dioxide density pH   sulphates alcohol\n",
       "1    11                  34                    0.9978  3.51 0.56      9.4    \n",
       "2    25                  67                    0.9968  3.20 0.68      9.8    \n",
       "3    15                  54                    0.9970  3.26 0.65      9.8    \n",
       "4    17                  60                    0.9980  3.16 0.58      9.8    \n",
       "5    11                  34                    0.9978  3.51 0.56      9.4    \n",
       "⋮    ⋮                   ⋮                     ⋮       ⋮    ⋮         ⋮      \n",
       "1139 29                  40                    0.99574 3.42 0.75      11.0   \n",
       "1140 28                  38                    0.99651 3.42 0.82       9.5   \n",
       "1141 32                  44                    0.99490 3.45 0.58      10.5   \n",
       "1142 39                  51                    0.99512 3.52 0.76      11.2   \n",
       "1143 32                  44                    0.99547 3.57 0.71      10.2   \n",
       "     quality id  \n",
       "1    5       0   \n",
       "2    5       1   \n",
       "3    5       2   \n",
       "4    6       3   \n",
       "5    5       4   \n",
       "⋮    ⋮       ⋮   \n",
       "1139 6       1592\n",
       "1140 6       1593\n",
       "1141 5       1594\n",
       "1142 6       1595\n",
       "1143 5       1597"
      ]
     },
     "metadata": {},
     "output_type": "display_data"
    }
   ],
   "source": [
    "library(tidyverse)\n",
    "library(tidymodels)\n",
    "library(repr)\n",
    "options(repr.matrix.max.rows = 10)\n",
    "\n",
    "wine_data_og <- read_csv(\"Wine_quality.csv\")\n",
    "colnames(wine_data_og)<- c(\"fixed_acidity\", \"volatile_acidity\", \"citric_acid\", \"residual_sugar\", \"chlorides\", \"free_sulfur_dioxide\", \"total_sulpher_dioxide\",\"density\", \"pH\", \"sulphates\", \"alcohol\", \"quality\", \"id\")\n",
    "\n",
    "\n",
    "wine_data <- wine_data_og %>% \n",
    "            mutate(quality=as_factor(quality))\n",
    "wine_data"
   ]
  },
  {
   "cell_type": "code",
   "execution_count": null,
   "metadata": {},
   "outputs": [],
   "source": []
  },
  {
   "cell_type": "code",
   "execution_count": null,
   "metadata": {},
   "outputs": [],
   "source": []
  },
  {
   "cell_type": "code",
   "execution_count": 6,
   "metadata": {},
   "outputs": [
    {
     "name": "stderr",
     "output_type": "stream",
     "text": [
      "Warning message:\n",
      "“Ignoring unknown parameters: binwidth, bins, pad”\n"
     ]
    },
    {
     "data": {
      "image/png": "[encoded data removed]",
      "text/plain": [
       "plot without title"
      ]
     },
     "metadata": {
      "image/png": {
       "height": 420,
       "width": 420
      }
     },
     "output_type": "display_data"
    }
   ],
   "source": [
    "ggplot(wine_data, aes(x=quality))+\n",
    "geom_histogram(stat=\"count\")"
   ]
  },
  {
   "cell_type": "code",
   "execution_count": 7,
   "metadata": {},
   "outputs": [],
   "source": [
    "wine_split <- initial_split(wine_data, prop = 0.75, strata = quality)\n",
    "wine_train <- training(wine_split)\n",
    "wine_test <- testing(wine_split) \n"
   ]
  },
  {
   "cell_type": "code",
   "execution_count": 25,
   "metadata": {},
   "outputs": [
    {
     "data": {
      "text/html": [
       "<table>\n",
       "<caption>A tibble: 1143 × 6</caption>\n",
       "<thead>\n",
       "\t<tr><th scope=col>volatile_acidity</th><th scope=col>chlorides</th><th scope=col>total_sulpher_dioxide</th><th scope=col>sulphates</th><th scope=col>alcohol</th><th scope=col>quality</th></tr>\n",
       "\t<tr><th scope=col>&lt;dbl&gt;</th><th scope=col>&lt;dbl&gt;</th><th scope=col>&lt;dbl&gt;</th><th scope=col>&lt;dbl&gt;</th><th scope=col>&lt;dbl&gt;</th><th scope=col>&lt;fct&gt;</th></tr>\n",
       "</thead>\n",
       "<tbody>\n",
       "\t<tr><td>0.70</td><td>0.076</td><td>34</td><td>0.56</td><td>9.4</td><td>5</td></tr>\n",
       "\t<tr><td>0.88</td><td>0.098</td><td>67</td><td>0.68</td><td>9.8</td><td>5</td></tr>\n",
       "\t<tr><td>0.76</td><td>0.092</td><td>54</td><td>0.65</td><td>9.8</td><td>5</td></tr>\n",
       "\t<tr><td>0.28</td><td>0.075</td><td>60</td><td>0.58</td><td>9.8</td><td>6</td></tr>\n",
       "\t<tr><td>0.70</td><td>0.076</td><td>34</td><td>0.56</td><td>9.4</td><td>5</td></tr>\n",
       "\t<tr><td>⋮</td><td>⋮</td><td>⋮</td><td>⋮</td><td>⋮</td><td>⋮</td></tr>\n",
       "\t<tr><td>0.510</td><td>0.076</td><td>40</td><td>0.75</td><td>11.0</td><td>6</td></tr>\n",
       "\t<tr><td>0.620</td><td>0.068</td><td>38</td><td>0.82</td><td> 9.5</td><td>6</td></tr>\n",
       "\t<tr><td>0.600</td><td>0.090</td><td>44</td><td>0.58</td><td>10.5</td><td>5</td></tr>\n",
       "\t<tr><td>0.550</td><td>0.062</td><td>51</td><td>0.76</td><td>11.2</td><td>6</td></tr>\n",
       "\t<tr><td>0.645</td><td>0.075</td><td>44</td><td>0.71</td><td>10.2</td><td>5</td></tr>\n",
       "</tbody>\n",
       "</table>\n"
      ],
      "text/latex": [
       "A tibble: 1143 × 6\n",
       "\\begin{tabular}{llllll}\n",
       " volatile\\_acidity & chlorides & total\\_sulpher\\_dioxide & sulphates & alcohol & quality\\\\\n",
       " <dbl> & <dbl> & <dbl> & <dbl> & <dbl> & <fct>\\\\\n",
       "\\hline\n",
       "\t 0.70 & 0.076 & 34 & 0.56 & 9.4 & 5\\\\\n",
       "\t 0.88 & 0.098 & 67 & 0.68 & 9.8 & 5\\\\\n",
       "\t 0.76 & 0.092 & 54 & 0.65 & 9.8 & 5\\\\\n",
       "\t 0.28 & 0.075 & 60 & 0.58 & 9.8 & 6\\\\\n",
       "\t 0.70 & 0.076 & 34 & 0.56 & 9.4 & 5\\\\\n",
       "\t ⋮ & ⋮ & ⋮ & ⋮ & ⋮ & ⋮\\\\\n",
       "\t 0.510 & 0.076 & 40 & 0.75 & 11.0 & 6\\\\\n",
       "\t 0.620 & 0.068 & 38 & 0.82 &  9.5 & 6\\\\\n",
       "\t 0.600 & 0.090 & 44 & 0.58 & 10.5 & 5\\\\\n",
       "\t 0.550 & 0.062 & 51 & 0.76 & 11.2 & 6\\\\\n",
       "\t 0.645 & 0.075 & 44 & 0.71 & 10.2 & 5\\\\\n",
       "\\end{tabular}\n"
      ],
      "text/markdown": [
       "\n",
       "A tibble: 1143 × 6\n",
       "\n",
       "| volatile_acidity &lt;dbl&gt; | chlorides &lt;dbl&gt; | total_sulpher_dioxide &lt;dbl&gt; | sulphates &lt;dbl&gt; | alcohol &lt;dbl&gt; | quality &lt;fct&gt; |\n",
       "|---|---|---|---|---|---|\n",
       "| 0.70 | 0.076 | 34 | 0.56 | 9.4 | 5 |\n",
       "| 0.88 | 0.098 | 67 | 0.68 | 9.8 | 5 |\n",
       "| 0.76 | 0.092 | 54 | 0.65 | 9.8 | 5 |\n",
       "| 0.28 | 0.075 | 60 | 0.58 | 9.8 | 6 |\n",
       "| 0.70 | 0.076 | 34 | 0.56 | 9.4 | 5 |\n",
       "| ⋮ | ⋮ | ⋮ | ⋮ | ⋮ | ⋮ |\n",
       "| 0.510 | 0.076 | 40 | 0.75 | 11.0 | 6 |\n",
       "| 0.620 | 0.068 | 38 | 0.82 |  9.5 | 6 |\n",
       "| 0.600 | 0.090 | 44 | 0.58 | 10.5 | 5 |\n",
       "| 0.550 | 0.062 | 51 | 0.76 | 11.2 | 6 |\n",
       "| 0.645 | 0.075 | 44 | 0.71 | 10.2 | 5 |\n",
       "\n"
      ],
      "text/plain": [
       "     volatile_acidity chlorides total_sulpher_dioxide sulphates alcohol quality\n",
       "1    0.70             0.076     34                    0.56      9.4     5      \n",
       "2    0.88             0.098     67                    0.68      9.8     5      \n",
       "3    0.76             0.092     54                    0.65      9.8     5      \n",
       "4    0.28             0.075     60                    0.58      9.8     6      \n",
       "5    0.70             0.076     34                    0.56      9.4     5      \n",
       "⋮    ⋮                ⋮         ⋮                     ⋮         ⋮       ⋮      \n",
       "1139 0.510            0.076     40                    0.75      11.0    6      \n",
       "1140 0.620            0.068     38                    0.82       9.5    6      \n",
       "1141 0.600            0.090     44                    0.58      10.5    5      \n",
       "1142 0.550            0.062     51                    0.76      11.2    6      \n",
       "1143 0.645            0.075     44                    0.71      10.2    5      "
      ]
     },
     "metadata": {},
     "output_type": "display_data"
    }
   ],
   "source": [
    "predictors <- select(wine_data, volatile_acidity, chlorides, total_sulpher_dioxide, sulphates, alcohol, quality)\n",
    "#group_by(quality)%>%\n",
    "#summarize(volatile_acidity,chlorides,total_sulpher_dioxide,sulphates,alcohol)\n",
    "predictors"
   ]
  },
  {
   "cell_type": "code",
   "execution_count": 31,
   "metadata": {},
   "outputs": [
    {
     "name": "stderr",
     "output_type": "stream",
     "text": [
      "Warning message:\n",
      "“position_stack requires non-overlapping x intervals”\n"
     ]
    },
    {
     "data": {
      "image/png": "[encoded data removed]",
      "text/plain": [
       "plot without title"
      ]
     },
     "metadata": {
      "image/png": {
       "height": 420,
       "width": 420
      }
     },
     "output_type": "display_data"
    }
   ],
   "source": [
    "ggplot(predictors, aes(x=sulphates, color=quality))+\n",
    "    geom_bar()"
   ]
  },
  {
   "cell_type": "code",
   "execution_count": null,
   "metadata": {},
   "outputs": [],
   "source": []
  },
  {
   "cell_type": "code",
   "execution_count": null,
   "metadata": {},
   "outputs": [],
   "source": []
  }
 ],
 "metadata": {
  "kernelspec": {
   "display_name": "R",
   "language": "R",
   "name": "ir"
  },
  "language_info": {
   "codemirror_mode": "r",
   "file_extension": ".r",
   "mimetype": "text/x-r-source",
   "name": "R",
   "pygments_lexer": "r",
   "version": "4.0.0"
  }
 },
 "nbformat": 4,
 "nbformat_minor": 4
}
