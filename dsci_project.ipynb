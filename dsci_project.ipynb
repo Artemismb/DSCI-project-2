{
 "cells": [
  {
   "cell_type": "markdown",
   "metadata": {},
   "source": [
    "This is the Project Proposal for the DSCI 100 Group Project. \n",
    "Group members: Artemis, Cathy, Abdulaziz Umiryayev\n",
    "\n",
    "The title of the project is: Patient Survival Predictor\n",
    "-> The dataset is drawn from information received from in-hospital mortality for admitted patients.\n",
    "The model would answer the following predictive question: Based on the foundational characteristics, what are the chances that the admitted patient dies?\n",
    "\n",
    "-> foundational characteristics would be figured out through trial-and-error method of finding which characteristics have the strongest correlation with the death occurence."
   ]
  },
  {
   "cell_type": "code",
   "execution_count": 5,
   "metadata": {},
   "outputs": [
    {
     "ename": "ERROR",
     "evalue": "Error in parse(text = x, srcfile = src): <text>:1:7: unexpected '/'\n1: https:/\n          ^\n",
     "output_type": "error",
     "traceback": [
      "Error in parse(text = x, srcfile = src): <text>:1:7: unexpected '/'\n1: https:/\n          ^\nTraceback:\n"
     ]
    }
   ],
   "source": [
    "https://www.kaggle.com/mitishaagarwal/patient\n",
    "https://canvas.ubc.ca/courses/83542/assignments/1106463\n"
   ]
  },
  {
   "cell_type": "code",
   "execution_count": 6,
   "metadata": {},
   "outputs": [
    {
     "name": "stderr",
     "output_type": "stream",
     "text": [
      "── \u001b[1mAttaching packages\u001b[22m ─────────────────────────────────────── tidyverse 1.3.0 ──\n",
      "\n",
      "\u001b[32m✔\u001b[39m \u001b[34mggplot2\u001b[39m 3.3.2     \u001b[32m✔\u001b[39m \u001b[34mpurrr  \u001b[39m 0.3.4\n",
      "\u001b[32m✔\u001b[39m \u001b[34mtibble \u001b[39m 3.0.3     \u001b[32m✔\u001b[39m \u001b[34mdplyr  \u001b[39m 1.0.2\n",
      "\u001b[32m✔\u001b[39m \u001b[34mtidyr  \u001b[39m 1.1.2     \u001b[32m✔\u001b[39m \u001b[34mstringr\u001b[39m 1.4.0\n",
      "\u001b[32m✔\u001b[39m \u001b[34mreadr  \u001b[39m 1.3.1     \u001b[32m✔\u001b[39m \u001b[34mforcats\u001b[39m 0.5.0\n",
      "\n",
      "Warning message:\n",
      "“package ‘ggplot2’ was built under R version 4.0.1”\n",
      "Warning message:\n",
      "“package ‘tibble’ was built under R version 4.0.2”\n",
      "Warning message:\n",
      "“package ‘tidyr’ was built under R version 4.0.2”\n",
      "Warning message:\n",
      "“package ‘dplyr’ was built under R version 4.0.2”\n",
      "── \u001b[1mConflicts\u001b[22m ────────────────────────────────────────── tidyverse_conflicts() ──\n",
      "\u001b[31m✖\u001b[39m \u001b[34mdplyr\u001b[39m::\u001b[32mfilter()\u001b[39m masks \u001b[34mstats\u001b[39m::filter()\n",
      "\u001b[31m✖\u001b[39m \u001b[34mdplyr\u001b[39m::\u001b[32mlag()\u001b[39m    masks \u001b[34mstats\u001b[39m::lag()\n",
      "\n",
      "Warning message:\n",
      "“package ‘tidymodels’ was built under R version 4.0.2”\n",
      "── \u001b[1mAttaching packages\u001b[22m ────────────────────────────────────── tidymodels 0.1.1 ──\n",
      "\n",
      "\u001b[32m✔\u001b[39m \u001b[34mbroom    \u001b[39m 0.7.0      \u001b[32m✔\u001b[39m \u001b[34mrecipes  \u001b[39m 0.1.13\n",
      "\u001b[32m✔\u001b[39m \u001b[34mdials    \u001b[39m 0.0.9      \u001b[32m✔\u001b[39m \u001b[34mrsample  \u001b[39m 0.0.7 \n",
      "\u001b[32m✔\u001b[39m \u001b[34minfer    \u001b[39m 0.5.4      \u001b[32m✔\u001b[39m \u001b[34mtune     \u001b[39m 0.1.1 \n",
      "\u001b[32m✔\u001b[39m \u001b[34mmodeldata\u001b[39m 0.0.2      \u001b[32m✔\u001b[39m \u001b[34mworkflows\u001b[39m 0.2.0 \n",
      "\u001b[32m✔\u001b[39m \u001b[34mparsnip  \u001b[39m 0.1.3      \u001b[32m✔\u001b[39m \u001b[34myardstick\u001b[39m 0.0.7 \n",
      "\n",
      "Warning message:\n",
      "“package ‘broom’ was built under R version 4.0.2”\n",
      "Warning message:\n",
      "“package ‘dials’ was built under R version 4.0.2”\n",
      "Warning message:\n",
      "“package ‘infer’ was built under R version 4.0.3”\n",
      "Warning message:\n",
      "“package ‘modeldata’ was built under R version 4.0.1”\n",
      "Warning message:\n",
      "“package ‘parsnip’ was built under R version 4.0.2”\n",
      "Warning message:\n",
      "“package ‘recipes’ was built under R version 4.0.1”\n",
      "Warning message:\n",
      "“package ‘tune’ was built under R version 4.0.2”\n",
      "Warning message:\n",
      "“package ‘workflows’ was built under R version 4.0.2”\n",
      "Warning message:\n",
      "“package ‘yardstick’ was built under R version 4.0.2”\n",
      "── \u001b[1mConflicts\u001b[22m ───────────────────────────────────────── tidymodels_conflicts() ──\n",
      "\u001b[31m✖\u001b[39m \u001b[34mscales\u001b[39m::\u001b[32mdiscard()\u001b[39m masks \u001b[34mpurrr\u001b[39m::discard()\n",
      "\u001b[31m✖\u001b[39m \u001b[34mdplyr\u001b[39m::\u001b[32mfilter()\u001b[39m   masks \u001b[34mstats\u001b[39m::filter()\n",
      "\u001b[31m✖\u001b[39m \u001b[34mrecipes\u001b[39m::\u001b[32mfixed()\u001b[39m  masks \u001b[34mstringr\u001b[39m::fixed()\n",
      "\u001b[31m✖\u001b[39m \u001b[34mdplyr\u001b[39m::\u001b[32mlag()\u001b[39m      masks \u001b[34mstats\u001b[39m::lag()\n",
      "\u001b[31m✖\u001b[39m \u001b[34myardstick\u001b[39m::\u001b[32mspec()\u001b[39m masks \u001b[34mreadr\u001b[39m::spec()\n",
      "\u001b[31m✖\u001b[39m \u001b[34mrecipes\u001b[39m::\u001b[32mstep()\u001b[39m   masks \u001b[34mstats\u001b[39m::step()\n",
      "\n",
      "Warning message in file(filename, \"r\", encoding = encoding):\n",
      "“cannot open file 'tests.R': No such file or directory”\n"
     ]
    },
    {
     "ename": "ERROR",
     "evalue": "Error in file(filename, \"r\", encoding = encoding): cannot open the connection\n",
     "output_type": "error",
     "traceback": [
      "Error in file(filename, \"r\", encoding = encoding): cannot open the connection\nTraceback:\n",
      "1. source(\"tests.R\")",
      "2. file(filename, \"r\", encoding = encoding)"
     ]
    }
   ],
   "source": [
    "library(repr)\n",
    "library(tidyverse)\n",
    "library(tidymodels)\n",
    "options(repr.matrix.max.rows = 6)\n",
    "source('tests.R')\n",
    "source(\"cleanup.R\")"
   ]
  },
  {
   "cell_type": "code",
   "execution_count": 7,
   "metadata": {},
   "outputs": [
    {
     "name": "stderr",
     "output_type": "stream",
     "text": [
      "Parsed with column specification:\n",
      "cols(\n",
      "  `fixed acidity` = \u001b[32mcol_double()\u001b[39m,\n",
      "  `volatile acidity` = \u001b[32mcol_double()\u001b[39m,\n",
      "  `citric acid` = \u001b[32mcol_double()\u001b[39m,\n",
      "  `residual sugar` = \u001b[32mcol_double()\u001b[39m,\n",
      "  chlorides = \u001b[32mcol_double()\u001b[39m,\n",
      "  `free sulfur dioxide` = \u001b[32mcol_double()\u001b[39m,\n",
      "  `total sulfur dioxide` = \u001b[32mcol_double()\u001b[39m,\n",
      "  density = \u001b[32mcol_double()\u001b[39m,\n",
      "  pH = \u001b[32mcol_double()\u001b[39m,\n",
      "  sulphates = \u001b[32mcol_double()\u001b[39m,\n",
      "  alcohol = \u001b[32mcol_double()\u001b[39m,\n",
      "  quality = \u001b[32mcol_double()\u001b[39m,\n",
      "  Id = \u001b[32mcol_double()\u001b[39m\n",
      ")\n",
      "\n"
     ]
    },
    {
     "data": {
      "text/html": [
       "<table>\n",
       "<caption>A tibble: 1143 × 13</caption>\n",
       "<thead>\n",
       "\t<tr><th scope=col>id</th><th scope=col>fix_acid</th><th scope=col>vol_acid</th><th scope=col>citric_acid</th><th scope=col>resid_sugar</th><th scope=col>chlorides</th><th scope=col>free_sugar_dioxide</th><th scope=col>total_sulfur_dioxide</th><th scope=col>density</th><th scope=col>pH</th><th scope=col>sulphates</th><th scope=col>alcohol</th><th scope=col>quality</th></tr>\n",
       "\t<tr><th scope=col>&lt;dbl&gt;</th><th scope=col>&lt;dbl&gt;</th><th scope=col>&lt;dbl&gt;</th><th scope=col>&lt;dbl&gt;</th><th scope=col>&lt;dbl&gt;</th><th scope=col>&lt;dbl&gt;</th><th scope=col>&lt;dbl&gt;</th><th scope=col>&lt;dbl&gt;</th><th scope=col>&lt;dbl&gt;</th><th scope=col>&lt;dbl&gt;</th><th scope=col>&lt;dbl&gt;</th><th scope=col>&lt;dbl&gt;</th><th scope=col>&lt;fct&gt;</th></tr>\n",
       "</thead>\n",
       "<tbody>\n",
       "\t<tr><td>0</td><td>7.4</td><td>0.70</td><td>0.00</td><td>1.9</td><td>0.076</td><td>11</td><td>34</td><td>0.9978</td><td>3.51</td><td>0.56</td><td>9.4</td><td>5</td></tr>\n",
       "\t<tr><td>1</td><td>7.8</td><td>0.88</td><td>0.00</td><td>2.6</td><td>0.098</td><td>25</td><td>67</td><td>0.9968</td><td>3.20</td><td>0.68</td><td>9.8</td><td>5</td></tr>\n",
       "\t<tr><td>2</td><td>7.8</td><td>0.76</td><td>0.04</td><td>2.3</td><td>0.092</td><td>15</td><td>54</td><td>0.9970</td><td>3.26</td><td>0.65</td><td>9.8</td><td>5</td></tr>\n",
       "\t<tr><td>⋮</td><td>⋮</td><td>⋮</td><td>⋮</td><td>⋮</td><td>⋮</td><td>⋮</td><td>⋮</td><td>⋮</td><td>⋮</td><td>⋮</td><td>⋮</td><td>⋮</td></tr>\n",
       "\t<tr><td>1594</td><td>6.2</td><td>0.600</td><td>0.08</td><td>2.0</td><td>0.090</td><td>32</td><td>44</td><td>0.99490</td><td>3.45</td><td>0.58</td><td>10.5</td><td>5</td></tr>\n",
       "\t<tr><td>1595</td><td>5.9</td><td>0.550</td><td>0.10</td><td>2.2</td><td>0.062</td><td>39</td><td>51</td><td>0.99512</td><td>3.52</td><td>0.76</td><td>11.2</td><td>6</td></tr>\n",
       "\t<tr><td>1597</td><td>5.9</td><td>0.645</td><td>0.12</td><td>2.0</td><td>0.075</td><td>32</td><td>44</td><td>0.99547</td><td>3.57</td><td>0.71</td><td>10.2</td><td>5</td></tr>\n",
       "</tbody>\n",
       "</table>\n"
      ],
      "text/latex": [
       "A tibble: 1143 × 13\n",
       "\\begin{tabular}{lllllllllllll}\n",
       " id & fix\\_acid & vol\\_acid & citric\\_acid & resid\\_sugar & chlorides & free\\_sugar\\_dioxide & total\\_sulfur\\_dioxide & density & pH & sulphates & alcohol & quality\\\\\n",
       " <dbl> & <dbl> & <dbl> & <dbl> & <dbl> & <dbl> & <dbl> & <dbl> & <dbl> & <dbl> & <dbl> & <dbl> & <fct>\\\\\n",
       "\\hline\n",
       "\t 0 & 7.4 & 0.70 & 0.00 & 1.9 & 0.076 & 11 & 34 & 0.9978 & 3.51 & 0.56 & 9.4 & 5\\\\\n",
       "\t 1 & 7.8 & 0.88 & 0.00 & 2.6 & 0.098 & 25 & 67 & 0.9968 & 3.20 & 0.68 & 9.8 & 5\\\\\n",
       "\t 2 & 7.8 & 0.76 & 0.04 & 2.3 & 0.092 & 15 & 54 & 0.9970 & 3.26 & 0.65 & 9.8 & 5\\\\\n",
       "\t ⋮ & ⋮ & ⋮ & ⋮ & ⋮ & ⋮ & ⋮ & ⋮ & ⋮ & ⋮ & ⋮ & ⋮ & ⋮\\\\\n",
       "\t 1594 & 6.2 & 0.600 & 0.08 & 2.0 & 0.090 & 32 & 44 & 0.99490 & 3.45 & 0.58 & 10.5 & 5\\\\\n",
       "\t 1595 & 5.9 & 0.550 & 0.10 & 2.2 & 0.062 & 39 & 51 & 0.99512 & 3.52 & 0.76 & 11.2 & 6\\\\\n",
       "\t 1597 & 5.9 & 0.645 & 0.12 & 2.0 & 0.075 & 32 & 44 & 0.99547 & 3.57 & 0.71 & 10.2 & 5\\\\\n",
       "\\end{tabular}\n"
      ],
      "text/markdown": [
       "\n",
       "A tibble: 1143 × 13\n",
       "\n",
       "| id &lt;dbl&gt; | fix_acid &lt;dbl&gt; | vol_acid &lt;dbl&gt; | citric_acid &lt;dbl&gt; | resid_sugar &lt;dbl&gt; | chlorides &lt;dbl&gt; | free_sugar_dioxide &lt;dbl&gt; | total_sulfur_dioxide &lt;dbl&gt; | density &lt;dbl&gt; | pH &lt;dbl&gt; | sulphates &lt;dbl&gt; | alcohol &lt;dbl&gt; | quality &lt;fct&gt; |\n",
       "|---|---|---|---|---|---|---|---|---|---|---|---|---|\n",
       "| 0 | 7.4 | 0.70 | 0.00 | 1.9 | 0.076 | 11 | 34 | 0.9978 | 3.51 | 0.56 | 9.4 | 5 |\n",
       "| 1 | 7.8 | 0.88 | 0.00 | 2.6 | 0.098 | 25 | 67 | 0.9968 | 3.20 | 0.68 | 9.8 | 5 |\n",
       "| 2 | 7.8 | 0.76 | 0.04 | 2.3 | 0.092 | 15 | 54 | 0.9970 | 3.26 | 0.65 | 9.8 | 5 |\n",
       "| ⋮ | ⋮ | ⋮ | ⋮ | ⋮ | ⋮ | ⋮ | ⋮ | ⋮ | ⋮ | ⋮ | ⋮ | ⋮ |\n",
       "| 1594 | 6.2 | 0.600 | 0.08 | 2.0 | 0.090 | 32 | 44 | 0.99490 | 3.45 | 0.58 | 10.5 | 5 |\n",
       "| 1595 | 5.9 | 0.550 | 0.10 | 2.2 | 0.062 | 39 | 51 | 0.99512 | 3.52 | 0.76 | 11.2 | 6 |\n",
       "| 1597 | 5.9 | 0.645 | 0.12 | 2.0 | 0.075 | 32 | 44 | 0.99547 | 3.57 | 0.71 | 10.2 | 5 |\n",
       "\n"
      ],
      "text/plain": [
       "     id   fix_acid vol_acid citric_acid resid_sugar chlorides\n",
       "1    0    7.4      0.70     0.00        1.9         0.076    \n",
       "2    1    7.8      0.88     0.00        2.6         0.098    \n",
       "3    2    7.8      0.76     0.04        2.3         0.092    \n",
       "⋮    ⋮    ⋮        ⋮        ⋮           ⋮           ⋮        \n",
       "1141 1594 6.2      0.600    0.08        2.0         0.090    \n",
       "1142 1595 5.9      0.550    0.10        2.2         0.062    \n",
       "1143 1597 5.9      0.645    0.12        2.0         0.075    \n",
       "     free_sugar_dioxide total_sulfur_dioxide density pH   sulphates alcohol\n",
       "1    11                 34                   0.9978  3.51 0.56      9.4    \n",
       "2    25                 67                   0.9968  3.20 0.68      9.8    \n",
       "3    15                 54                   0.9970  3.26 0.65      9.8    \n",
       "⋮    ⋮                  ⋮                    ⋮       ⋮    ⋮         ⋮      \n",
       "1141 32                 44                   0.99490 3.45 0.58      10.5   \n",
       "1142 39                 51                   0.99512 3.52 0.76      11.2   \n",
       "1143 32                 44                   0.99547 3.57 0.71      10.2   \n",
       "     quality\n",
       "1    5      \n",
       "2    5      \n",
       "3    5      \n",
       "⋮    ⋮      \n",
       "1141 5      \n",
       "1142 6      \n",
       "1143 5      "
      ]
     },
     "metadata": {},
     "output_type": "display_data"
    }
   ],
   "source": [
    "dataset <- read_csv('data/WineQT.csv')\n",
    "#renames the columns and gets rid of the spaces\n",
    "colnames(dataset)<- c('fix_acid','vol_acid','citric_acid','resid_sugar','chlorides','free_sugar_dioxide','total_sulfur_dioxide','density','pH','sulphates','alcohol','quality','id')\n",
    "upd <- dataset %>%\n",
    "         #turns quality variable into a factor\n",
    "         mutate(quality = as_factor(quality))\n",
    "\n",
    "#moves ID column at the beginning \n",
    "updated_dataset <- upd[,c(13,1,2,3,4,5,6,7,8,9,10,11,12)]\n",
    "updated_dataset\n"
   ]
  },
  {
   "cell_type": "code",
   "execution_count": 8,
   "metadata": {},
   "outputs": [
    {
     "data": {
      "text/html": [
       "<table>\n",
       "<caption>A tibble: 858 × 13</caption>\n",
       "<thead>\n",
       "\t<tr><th scope=col>id</th><th scope=col>fix_acid</th><th scope=col>vol_acid</th><th scope=col>citric_acid</th><th scope=col>resid_sugar</th><th scope=col>chlorides</th><th scope=col>free_sugar_dioxide</th><th scope=col>total_sulfur_dioxide</th><th scope=col>density</th><th scope=col>pH</th><th scope=col>sulphates</th><th scope=col>alcohol</th><th scope=col>quality</th></tr>\n",
       "\t<tr><th scope=col>&lt;dbl&gt;</th><th scope=col>&lt;dbl&gt;</th><th scope=col>&lt;dbl&gt;</th><th scope=col>&lt;dbl&gt;</th><th scope=col>&lt;dbl&gt;</th><th scope=col>&lt;dbl&gt;</th><th scope=col>&lt;dbl&gt;</th><th scope=col>&lt;dbl&gt;</th><th scope=col>&lt;dbl&gt;</th><th scope=col>&lt;dbl&gt;</th><th scope=col>&lt;dbl&gt;</th><th scope=col>&lt;dbl&gt;</th><th scope=col>&lt;fct&gt;</th></tr>\n",
       "</thead>\n",
       "<tbody>\n",
       "\t<tr><td>0</td><td>7.4</td><td>0.70</td><td>0.00</td><td>1.9</td><td>0.076</td><td>11</td><td>34</td><td>0.9978</td><td>3.51</td><td>0.56</td><td>9.4</td><td>5</td></tr>\n",
       "\t<tr><td>1</td><td>7.8</td><td>0.88</td><td>0.00</td><td>2.6</td><td>0.098</td><td>25</td><td>67</td><td>0.9968</td><td>3.20</td><td>0.68</td><td>9.8</td><td>5</td></tr>\n",
       "\t<tr><td>2</td><td>7.8</td><td>0.76</td><td>0.04</td><td>2.3</td><td>0.092</td><td>15</td><td>54</td><td>0.9970</td><td>3.26</td><td>0.65</td><td>9.8</td><td>5</td></tr>\n",
       "\t<tr><td>⋮</td><td>⋮</td><td>⋮</td><td>⋮</td><td>⋮</td><td>⋮</td><td>⋮</td><td>⋮</td><td>⋮</td><td>⋮</td><td>⋮</td><td>⋮</td><td>⋮</td></tr>\n",
       "\t<tr><td>1594</td><td>6.2</td><td>0.600</td><td>0.08</td><td>2.0</td><td>0.090</td><td>32</td><td>44</td><td>0.99490</td><td>3.45</td><td>0.58</td><td>10.5</td><td>5</td></tr>\n",
       "\t<tr><td>1595</td><td>5.9</td><td>0.550</td><td>0.10</td><td>2.2</td><td>0.062</td><td>39</td><td>51</td><td>0.99512</td><td>3.52</td><td>0.76</td><td>11.2</td><td>6</td></tr>\n",
       "\t<tr><td>1597</td><td>5.9</td><td>0.645</td><td>0.12</td><td>2.0</td><td>0.075</td><td>32</td><td>44</td><td>0.99547</td><td>3.57</td><td>0.71</td><td>10.2</td><td>5</td></tr>\n",
       "</tbody>\n",
       "</table>\n"
      ],
      "text/latex": [
       "A tibble: 858 × 13\n",
       "\\begin{tabular}{lllllllllllll}\n",
       " id & fix\\_acid & vol\\_acid & citric\\_acid & resid\\_sugar & chlorides & free\\_sugar\\_dioxide & total\\_sulfur\\_dioxide & density & pH & sulphates & alcohol & quality\\\\\n",
       " <dbl> & <dbl> & <dbl> & <dbl> & <dbl> & <dbl> & <dbl> & <dbl> & <dbl> & <dbl> & <dbl> & <dbl> & <fct>\\\\\n",
       "\\hline\n",
       "\t 0 & 7.4 & 0.70 & 0.00 & 1.9 & 0.076 & 11 & 34 & 0.9978 & 3.51 & 0.56 & 9.4 & 5\\\\\n",
       "\t 1 & 7.8 & 0.88 & 0.00 & 2.6 & 0.098 & 25 & 67 & 0.9968 & 3.20 & 0.68 & 9.8 & 5\\\\\n",
       "\t 2 & 7.8 & 0.76 & 0.04 & 2.3 & 0.092 & 15 & 54 & 0.9970 & 3.26 & 0.65 & 9.8 & 5\\\\\n",
       "\t ⋮ & ⋮ & ⋮ & ⋮ & ⋮ & ⋮ & ⋮ & ⋮ & ⋮ & ⋮ & ⋮ & ⋮ & ⋮\\\\\n",
       "\t 1594 & 6.2 & 0.600 & 0.08 & 2.0 & 0.090 & 32 & 44 & 0.99490 & 3.45 & 0.58 & 10.5 & 5\\\\\n",
       "\t 1595 & 5.9 & 0.550 & 0.10 & 2.2 & 0.062 & 39 & 51 & 0.99512 & 3.52 & 0.76 & 11.2 & 6\\\\\n",
       "\t 1597 & 5.9 & 0.645 & 0.12 & 2.0 & 0.075 & 32 & 44 & 0.99547 & 3.57 & 0.71 & 10.2 & 5\\\\\n",
       "\\end{tabular}\n"
      ],
      "text/markdown": [
       "\n",
       "A tibble: 858 × 13\n",
       "\n",
       "| id &lt;dbl&gt; | fix_acid &lt;dbl&gt; | vol_acid &lt;dbl&gt; | citric_acid &lt;dbl&gt; | resid_sugar &lt;dbl&gt; | chlorides &lt;dbl&gt; | free_sugar_dioxide &lt;dbl&gt; | total_sulfur_dioxide &lt;dbl&gt; | density &lt;dbl&gt; | pH &lt;dbl&gt; | sulphates &lt;dbl&gt; | alcohol &lt;dbl&gt; | quality &lt;fct&gt; |\n",
       "|---|---|---|---|---|---|---|---|---|---|---|---|---|\n",
       "| 0 | 7.4 | 0.70 | 0.00 | 1.9 | 0.076 | 11 | 34 | 0.9978 | 3.51 | 0.56 | 9.4 | 5 |\n",
       "| 1 | 7.8 | 0.88 | 0.00 | 2.6 | 0.098 | 25 | 67 | 0.9968 | 3.20 | 0.68 | 9.8 | 5 |\n",
       "| 2 | 7.8 | 0.76 | 0.04 | 2.3 | 0.092 | 15 | 54 | 0.9970 | 3.26 | 0.65 | 9.8 | 5 |\n",
       "| ⋮ | ⋮ | ⋮ | ⋮ | ⋮ | ⋮ | ⋮ | ⋮ | ⋮ | ⋮ | ⋮ | ⋮ | ⋮ |\n",
       "| 1594 | 6.2 | 0.600 | 0.08 | 2.0 | 0.090 | 32 | 44 | 0.99490 | 3.45 | 0.58 | 10.5 | 5 |\n",
       "| 1595 | 5.9 | 0.550 | 0.10 | 2.2 | 0.062 | 39 | 51 | 0.99512 | 3.52 | 0.76 | 11.2 | 6 |\n",
       "| 1597 | 5.9 | 0.645 | 0.12 | 2.0 | 0.075 | 32 | 44 | 0.99547 | 3.57 | 0.71 | 10.2 | 5 |\n",
       "\n"
      ],
      "text/plain": [
       "    id   fix_acid vol_acid citric_acid resid_sugar chlorides free_sugar_dioxide\n",
       "1   0    7.4      0.70     0.00        1.9         0.076     11                \n",
       "2   1    7.8      0.88     0.00        2.6         0.098     25                \n",
       "3   2    7.8      0.76     0.04        2.3         0.092     15                \n",
       "⋮   ⋮    ⋮        ⋮        ⋮           ⋮           ⋮         ⋮                 \n",
       "856 1594 6.2      0.600    0.08        2.0         0.090     32                \n",
       "857 1595 5.9      0.550    0.10        2.2         0.062     39                \n",
       "858 1597 5.9      0.645    0.12        2.0         0.075     32                \n",
       "    total_sulfur_dioxide density pH   sulphates alcohol quality\n",
       "1   34                   0.9978  3.51 0.56      9.4     5      \n",
       "2   67                   0.9968  3.20 0.68      9.8     5      \n",
       "3   54                   0.9970  3.26 0.65      9.8     5      \n",
       "⋮   ⋮                    ⋮       ⋮    ⋮         ⋮       ⋮      \n",
       "856 44                   0.99490 3.45 0.58      10.5    5      \n",
       "857 51                   0.99512 3.52 0.76      11.2    6      \n",
       "858 44                   0.99547 3.57 0.71      10.2    5      "
      ]
     },
     "metadata": {},
     "output_type": "display_data"
    }
   ],
   "source": [
    "wine_split <- initial_split(updated_dataset, prop = 0.75, strata = quality)\n",
    "wine_train <- training(wine_split)\n",
    "wine_test <- testing(wine_split)\n",
    "\n",
    "wine_train"
   ]
  },
  {
   "cell_type": "code",
   "execution_count": 68,
   "metadata": {},
   "outputs": [
    {
     "name": "stderr",
     "output_type": "stream",
     "text": [
      "`summarise()` ungrouping output (override with `.groups` argument)\n",
      "\n"
     ]
    },
    {
     "data": {
      "text/html": [
       "<table>\n",
       "<caption>A tibble: 6 × 7</caption>\n",
       "<thead>\n",
       "\t<tr><th scope=col>quality</th><th scope=col>vol_acid_avg</th><th scope=col>alcohol_avg</th><th scope=col>total_sulfur_dioxide_avg</th><th scope=col>sulphates_avg</th><th scope=col>density_avg</th><th scope=col>count</th></tr>\n",
       "\t<tr><th scope=col>&lt;fct&gt;</th><th scope=col>&lt;dbl&gt;</th><th scope=col>&lt;dbl&gt;</th><th scope=col>&lt;dbl&gt;</th><th scope=col>&lt;dbl&gt;</th><th scope=col>&lt;dbl&gt;</th><th scope=col>&lt;int&gt;</th></tr>\n",
       "</thead>\n",
       "<tbody>\n",
       "\t<tr><td>3</td><td>0.8175</td><td> 9.825</td><td>15</td><td>0.56</td><td>0.997565</td><td>  6</td></tr>\n",
       "\t<tr><td>4</td><td>0.6750</td><td> 9.900</td><td>32</td><td>0.57</td><td>0.996700</td><td> 25</td></tr>\n",
       "\t<tr><td>5</td><td>0.5900</td><td> 9.700</td><td>46</td><td>0.58</td><td>0.996890</td><td>363</td></tr>\n",
       "\t<tr><td>6</td><td>0.5000</td><td>10.600</td><td>35</td><td>0.63</td><td>0.996500</td><td>349</td></tr>\n",
       "\t<tr><td>7</td><td>0.3800</td><td>11.700</td><td>28</td><td>0.75</td><td>0.995860</td><td>105</td></tr>\n",
       "\t<tr><td>8</td><td>0.3750</td><td>12.550</td><td>23</td><td>0.73</td><td>0.994890</td><td> 10</td></tr>\n",
       "</tbody>\n",
       "</table>\n"
      ],
      "text/latex": [
       "A tibble: 6 × 7\n",
       "\\begin{tabular}{lllllll}\n",
       " quality & vol\\_acid\\_avg & alcohol\\_avg & total\\_sulfur\\_dioxide\\_avg & sulphates\\_avg & density\\_avg & count\\\\\n",
       " <fct> & <dbl> & <dbl> & <dbl> & <dbl> & <dbl> & <int>\\\\\n",
       "\\hline\n",
       "\t 3 & 0.8175 &  9.825 & 15 & 0.56 & 0.997565 &   6\\\\\n",
       "\t 4 & 0.6750 &  9.900 & 32 & 0.57 & 0.996700 &  25\\\\\n",
       "\t 5 & 0.5900 &  9.700 & 46 & 0.58 & 0.996890 & 363\\\\\n",
       "\t 6 & 0.5000 & 10.600 & 35 & 0.63 & 0.996500 & 349\\\\\n",
       "\t 7 & 0.3800 & 11.700 & 28 & 0.75 & 0.995860 & 105\\\\\n",
       "\t 8 & 0.3750 & 12.550 & 23 & 0.73 & 0.994890 &  10\\\\\n",
       "\\end{tabular}\n"
      ],
      "text/markdown": [
       "\n",
       "A tibble: 6 × 7\n",
       "\n",
       "| quality &lt;fct&gt; | vol_acid_avg &lt;dbl&gt; | alcohol_avg &lt;dbl&gt; | total_sulfur_dioxide_avg &lt;dbl&gt; | sulphates_avg &lt;dbl&gt; | density_avg &lt;dbl&gt; | count &lt;int&gt; |\n",
       "|---|---|---|---|---|---|---|\n",
       "| 3 | 0.8175 |  9.825 | 15 | 0.56 | 0.997565 |   6 |\n",
       "| 4 | 0.6750 |  9.900 | 32 | 0.57 | 0.996700 |  25 |\n",
       "| 5 | 0.5900 |  9.700 | 46 | 0.58 | 0.996890 | 363 |\n",
       "| 6 | 0.5000 | 10.600 | 35 | 0.63 | 0.996500 | 349 |\n",
       "| 7 | 0.3800 | 11.700 | 28 | 0.75 | 0.995860 | 105 |\n",
       "| 8 | 0.3750 | 12.550 | 23 | 0.73 | 0.994890 |  10 |\n",
       "\n"
      ],
      "text/plain": [
       "  quality vol_acid_avg alcohol_avg total_sulfur_dioxide_avg sulphates_avg\n",
       "1 3       0.8175        9.825      15                       0.56         \n",
       "2 4       0.6750        9.900      32                       0.57         \n",
       "3 5       0.5900        9.700      46                       0.58         \n",
       "4 6       0.5000       10.600      35                       0.63         \n",
       "5 7       0.3800       11.700      28                       0.75         \n",
       "6 8       0.3750       12.550      23                       0.73         \n",
       "  density_avg count\n",
       "1 0.997565      6  \n",
       "2 0.996700     25  \n",
       "3 0.996890    363  \n",
       "4 0.996500    349  \n",
       "5 0.995860    105  \n",
       "6 0.994890     10  "
      ]
     },
     "metadata": {},
     "output_type": "display_data"
    }
   ],
   "source": [
    "\n",
    "            \n",
    "wine_summarize <- wine_train%>% \n",
    "                       group_by(quality)%>%\n",
    "                       summarise(vol_acid_avg = median(vol_acid), alcohol_avg = median(alcohol), total_sulfur_dioxide_avg = median(total_sulfur_dioxide),sulphates_avg = median(sulphates), density_avg = median(density), count = n())\n",
    "\n",
    "\n",
    "                        \n",
    "#the quality distribution falls into the Gaussian normal distribution\n",
    "#\n",
    "wine_summarize"
   ]
  },
  {
   "cell_type": "code",
   "execution_count": null,
   "metadata": {},
   "outputs": [],
   "source": []
  },
  {
   "cell_type": "code",
   "execution_count": null,
   "metadata": {},
   "outputs": [],
   "source": []
  }
 ],
 "metadata": {
  "kernelspec": {
   "display_name": "R",
   "language": "R",
   "name": "ir"
  },
  "language_info": {
   "codemirror_mode": "r",
   "file_extension": ".r",
   "mimetype": "text/x-r-source",
   "name": "R",
   "pygments_lexer": "r",
   "version": "4.0.0"
  }
 },
 "nbformat": 4,
 "nbformat_minor": 4
}
